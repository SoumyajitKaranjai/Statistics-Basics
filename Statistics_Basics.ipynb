{
  "nbformat": 4,
  "nbformat_minor": 0,
  "metadata": {
    "colab": {
      "provenance": []
    },
    "kernelspec": {
      "name": "python3",
      "display_name": "Python 3"
    },
    "language_info": {
      "name": "python"
    }
  },
  "cells": [
    {
      "cell_type": "markdown",
      "source": [
        "Question 1: What is the difference between descriptive statistics and inferential statistics? Explain with examples.\n",
        "\n",
        "→ **Descriptive statistics** focus on summarizing and describing the main features of a specific dataset. This branch is limited to the data at hand and does not generalize or draw conclusions beyond it. Common descriptive methods include calculating the mean, median, mode, range, variance, creating bar charts, histograms, and pie charts.\n",
        "\n",
        "Example: If a teacher calculates the average (mean) test score of her class, the highest and lowest scores, and displays this data using a bar chart, she is using descriptive statistics. All insights are limited strictly to the students in her class.\n",
        "\n",
        " **Inferential statistics** go further by using data from a sample to make inferences or draw conclusions about a larger population that the sample represents. This branch relies on probability theory to estimate population parameters, test hypotheses, and predict trends.\n",
        "\n",
        "Example: If a political analyst surveys 1,000 voters in a city to predict the outcome of an upcoming election for all 100,000 voters, she uses inferential statistics—drawing conclusions about the full population from the sample data, and providing results with a margin of error or confidence interval.\n",
        "\n",
        "\n",
        "Question 2: What is sampling in statistics? Explain the differences between random and stratified sampling.\n",
        "→Sampling in statistics is the process of selecting a subset (sample) from a larger population to estimate characteristics or draw conclusions about the entire population. Sampling is essential because studying every member of a large group is often impractical or impossible. By carefully choosing a representative sample, researchers can gather useful information efficiently and cost-effectively.\n",
        "\n",
        "**Random Sampling:-**\n",
        "Random sampling is a probability sampling technique where every individual or item in the population has an equal chance of being selected. This method minimizes selection bias, ensuring the sample is representative of the whole. For example, to survey student opinions at a university, researchers could randomly select students from enrollment lists, so each student has the same probability of inclusion.\n",
        "\n",
        "**Stratified Sampling:-**\n",
        "Stratified sampling involves dividing the population into distinct subgroups or strata (such as age, gender, income level) that share similar characteristics, then randomly sampling from each stratum proportionally. This ensures representation from all key subgroups, especially when some may be underrepresented with simple random sampling. For example, if a school has 60% girls and 40% boys and you want to survey 100 students, stratified sampling would ensure you randomly select 60 girls and 40 boys, maintaining the overall gender proportions in your sample.\n",
        "\n",
        "Question 3: Define mean, median, and mode. Explain why these measures of central tendency are important.\n",
        "\n",
        "→The mean, median, and mode are the three most commonly used measures of central tendency in statistics, each summarizing a large dataset with a single representative value.\n",
        "\n",
        "**Mean (Arithmetic Average)**: The mean is calculated by adding all the values in a dataset and dividing by the total number of values. For example, the mean of 2, 4, 6, 8, and 10 is\n",
        "(2+4+6+8+10)/5=6\n",
        "\n",
        "**Median**: The median is the middle value when a dataset is arranged in numeric order. If the number of observations is odd, it is the exact middle; if even, it is the average of the two middle numbers. For example, in the dataset 1, 3, 5, the median is 3; for 1, 3, 5, 7, the median is (3+5)/2 = 4.\n",
        "\n",
        "**Mode**: The mode is the value that appears most frequently in the dataset. A dataset may have one mode, more than one mode, or no mode at all if no value repeats. In the set 2, 3, 3, 5, 7, the mode is 3.\n",
        "         \n",
        "These measures of central tendency are important because:\n",
        "\n",
        "a. They summarize data with a single representative figure, making it easier to interpret and compare datasets.\n",
        "\n",
        "b.The mean is useful for evenly distributed data since it uses every value, but it can be skewed by extremely high or low values (outliers).\n",
        "\n",
        "c. The median provides a better central value when data are skewed or contain outliers because it is not affected by extreme values.\n",
        "\n",
        "d. The mode identifies the most common value, which is especially helpful for categorical data or understanding trends in frequency (like the most common shoe size sold).\n",
        "\n",
        "Question 4: Explain skewness and kurtosis. What does a positive skew imply about the data?\n",
        "\n",
        "**Skewness:-**\n",
        "\n",
        "Skewness measures the degree of asymmetry in a distribution around its mean. When a dataset is symmetrical, the left and right sides of the distribution mirror each other, resulting in zero skewness. If the distribution is not symmetrical, it may exhibit:\n",
        "\n",
        "Positive skew (right-skewed): The right tail is longer or fatter than the left. This means there are more high-value outliers, and data is concentrated on the left.\n",
        "\n",
        "Negative skew (left-skewed): The left tail is longer or fatter, and more low-value outliers are present, with data concentrated on the right.\n",
        "Zero skewness: Perfectly symmetrical distribution, like the normal (bell curve) distribution.\n",
        "\n",
        "**Kurtosis:-**\n",
        "\n",
        "Kurtosis measures the \"tailedness\" or the degree of peakedness in the distribution—specifically, how heavy or light the tails are compared to a normal distribution. It helps in understanding the likelihood of seeing outliers.\n",
        "\n",
        "Leptokurtic: Sharper peak and fatter tails, indicating more outliers (positive kurtosis).\n",
        "\n",
        "Mesokurtic: Similar peakedness and tail weight as the normal distribution (zero kurtosis).\n",
        "\n",
        "Platykurtic: Flatter peak and thinner tails, indicating fewer outliers (negative kurtosis).\n",
        "\n",
        "Positive Skew imply-\n",
        "\n",
        "A positive (right) skew means that the distribution has a longer or fatter tail on the right. This indicates that the majority of data values are lower, with a few extremely high values pulling the mean to the right. In such cases, the mean will be greater than the median.\n",
        "\n",
        "Example:\n",
        "Income distributions are often positively skewed, as most people earn average or below-average amounts, but a small number may earn much higher incomes.\n",
        "\n",
        "Question 5: Implement a Python program to compute the mean, median, and mode of a given list of numbers. numbers = [12, 15, 12, 18, 19, 12, 20, 22, 19, 19, 24, 24, 24, 26, 28].\n",
        "\n",
        "\n",
        "\n",
        "\n",
        "\n",
        "\n"
      ],
      "metadata": {
        "id": "li6eAlo0MapV"
      }
    },
    {
      "cell_type": "code",
      "execution_count": 1,
      "metadata": {
        "colab": {
          "base_uri": "https://localhost:8080/"
        },
        "id": "CgpT1wnHMEAq",
        "outputId": "b7be7f58-428f-42ce-f793-be2c1c9c2a0a"
      },
      "outputs": [
        {
          "output_type": "stream",
          "name": "stdout",
          "text": [
            "Mean: 19.6\n",
            "Median: 19\n",
            "Mode: 12\n"
          ]
        }
      ],
      "source": [
        "import statistics\n",
        "\n",
        "numbers = [12, 15, 12, 18, 19, 12, 20, 22, 19, 19, 24, 24, 24, 26, 28]\n",
        "\n",
        "# Mean\n",
        "mean_value = statistics.mean(numbers)\n",
        "print(\"Mean:\", mean_value)\n",
        "\n",
        "# Median\n",
        "median_value = statistics.median(numbers)\n",
        "print(\"Median:\", median_value)\n",
        "\n",
        "# Mode\n",
        "mode_value = statistics.mode(numbers)\n",
        "print(\"Mode:\", mode_value)\n"
      ]
    },
    {
      "cell_type": "markdown",
      "source": [
        "Question 6: Compute the covariance and correlation coefficient between the following\n",
        "two datasets provided as lists in Python:\n",
        "list_x = [10, 20, 30, 40, 50]\n",
        "list_y = [15, 25, 35, 45, 60]"
      ],
      "metadata": {
        "id": "JCAHBI_mQyWF"
      }
    },
    {
      "cell_type": "code",
      "source": [
        "import numpy as np\n",
        "\n",
        "list_x = [10, 20, 30, 40, 50]\n",
        "list_y = [15, 25, 35, 45, 60]\n",
        "\n",
        "# Calculate covariance matrix (2x2)\n",
        "cov_matrix = np.cov(list_x, list_y, ddof=1)  # ddof=1 for sample covariance\n",
        "cov_xy = cov_matrix[0, 1]\n",
        "print(\"Covariance between X and Y:\", cov_xy)\n",
        "\n",
        "# Calculate correlation coefficient matrix (2x2)\n",
        "corr_matrix = np.corrcoef(list_x, list_y)\n",
        "corr_xy = corr_matrix[0, 1]\n",
        "print(\"Correlation coefficient between X and Y:\", corr_xy)\n"
      ],
      "metadata": {
        "colab": {
          "base_uri": "https://localhost:8080/"
        },
        "id": "qyxMV2VqSKTh",
        "outputId": "0bc793ef-8ee8-43c6-a63f-d2488e3c0db8"
      },
      "execution_count": 2,
      "outputs": [
        {
          "output_type": "stream",
          "name": "stdout",
          "text": [
            "Covariance between X and Y: 275.0\n",
            "Correlation coefficient between X and Y: 0.995893206467704\n"
          ]
        }
      ]
    },
    {
      "cell_type": "markdown",
      "source": [
        "Question 7: Write a Python script to draw a boxplot for the following numeric list and\n",
        "identify its outliers. Explain the result:\n",
        "data = [12, 14, 14, 15, 18, 19, 19, 21, 22, 22, 23, 23, 24, 26, 29, 35]"
      ],
      "metadata": {
        "id": "-WhLIPw7SOG0"
      }
    },
    {
      "cell_type": "code",
      "source": [
        "import matplotlib.pyplot as plt\n",
        "import numpy as np\n",
        "\n",
        "data = [12, 14, 14, 15, 18, 19, 19, 21, 22, 22, 23, 23, 24, 26, 29, 35]\n",
        "\n",
        "# Calculate Q1, Q3 and IQR\n",
        "q1 = np.percentile(data, 25)\n",
        "q3 = np.percentile(data, 75)\n",
        "iqr = q3 - q1\n",
        "\n",
        "# Calculate lower and upper bounds for outliers\n",
        "lower_bound = q1 - 1.5 * iqr\n",
        "upper_bound = q3 + 1.5 * iqr\n",
        "\n",
        "# Identify outliers\n",
        "outliers = [x for x in data if x < lower_bound or x > upper_bound]\n",
        "\n",
        "print(\"Data:\", data)\n",
        "print(f\"Q1: {q1}, Q3: {q3}, IQR: {iqr}\")\n",
        "print(f\"Lower bound: {lower_bound}, Upper bound: {upper_bound}\")\n",
        "print(\"Outliers:\", outliers)\n",
        "\n",
        "# Plot boxplot\n",
        "plt.boxplot(data, patch_artist=True, flierprops=dict(marker='o', markerfacecolor='red', markersize=8))\n",
        "plt.title(\"Boxplot of Data with Outliers\")\n",
        "plt.show()\n"
      ],
      "metadata": {
        "colab": {
          "base_uri": "https://localhost:8080/",
          "height": 521
        },
        "id": "phdufBucTay6",
        "outputId": "a12784a9-dc1a-46c2-93ab-d9c7227e5d5f"
      },
      "execution_count": 3,
      "outputs": [
        {
          "output_type": "stream",
          "name": "stdout",
          "text": [
            "Data: [12, 14, 14, 15, 18, 19, 19, 21, 22, 22, 23, 23, 24, 26, 29, 35]\n",
            "Q1: 17.25, Q3: 23.25, IQR: 6.0\n",
            "Lower bound: 8.25, Upper bound: 32.25\n",
            "Outliers: [35]\n"
          ]
        },
        {
          "output_type": "display_data",
          "data": {
            "text/plain": [
              "<Figure size 640x480 with 1 Axes>"
            ],
            "image/png": "[encoded data removed]"
          },
          "metadata": {}
        }
      ]
    },
    {
      "cell_type": "markdown",
      "source": [
        "Question 8: You are working as a data analyst in an e-commerce company. The\n",
        "marketing team wants to know if there is a relationship between advertising spend and\n",
        "daily sales.\n",
        "\n",
        "● Explain how you would use covariance and correlation to explore this\n",
        "relationship.\n",
        "\n",
        "● Write Python code to compute the correlation between the two lists:\n",
        "advertising_spend = [200, 250, 300, 400, 500]\n",
        "daily_sales = [2200, 2450, 2750, 3200, 4000]\n",
        "\n",
        "To explore the relationship between advertising spend and daily sales, you can use covariance and correlation as follows:\n",
        "\n",
        "Covariance measures how two variables vary together. A positive covariance indicates that both variables tend to increase or decrease together (e.g., as advertising spend increases, sales tend to increase). A negative covariance means one variable tends to increase when the other decreases. However, covariance's magnitude depends on the units of measurement, making it difficult to interpret directly.\n",
        "\n",
        "Correlation standardizes covariance by dividing it by the product of the standard deviations of the variables, resulting in a value between -1 and 1. This value shows the strength and direction of the linear relationship:\n",
        "\n",
        "+1 means perfect positive linear relationship,\n",
        "\n",
        "0 means no linear relationship,\n",
        "\n",
        "-1 means perfect negative linear relationship.\n",
        "\n",
        "Hence, correlation is more informative than covariance for understanding the strength of the relationship.\n",
        "\n",
        "In your case, calculating covariance would tell you the direction of the relationship between advertising spend and daily sales, while correlation would tell you how strong that relationship is."
      ],
      "metadata": {
        "id": "8SM9Md8nTic2"
      }
    },
    {
      "cell_type": "code",
      "source": [
        "import numpy as np\n",
        "\n",
        "advertising_spend = [200, 250, 300, 400, 500]\n",
        "daily_sales = [2200, 2450, 2750, 3200, 4000]\n",
        "\n",
        "# Compute covariance matrix\n",
        "cov_matrix = np.cov(advertising_spend, daily_sales, ddof=1)\n",
        "covariance = cov_matrix[0, 1]\n",
        "print(\"Covariance between advertising spend and daily sales:\", covariance)\n",
        "\n",
        "# Compute correlation coefficient matrix\n",
        "corr_matrix = np.corrcoef(advertising_spend, daily_sales)\n",
        "correlation = corr_matrix[0, 1]\n",
        "print(\"Correlation coefficient between advertising spend and daily sales:\", correlation)\n"
      ],
      "metadata": {
        "colab": {
          "base_uri": "https://localhost:8080/"
        },
        "id": "m10RSb-MWxMR",
        "outputId": "da7eeb6a-d9fb-47e3-bd7f-3532ede73087"
      },
      "execution_count": 4,
      "outputs": [
        {
          "output_type": "stream",
          "name": "stdout",
          "text": [
            "Covariance between advertising spend and daily sales: 84875.0\n",
            "Correlation coefficient between advertising spend and daily sales: 0.9935824101653329\n"
          ]
        }
      ]
    },
    {
      "cell_type": "markdown",
      "source": [
        "Question 9: Your team has collected customer satisfaction survey data on a scale of\n",
        "1-10 and wants to understand its distribution before launching a new product.\n",
        "\n",
        "● Explain which summary statistics and visualizations (e.g. mean, standard\n",
        "deviation, histogram) you’d use.\n",
        "\n",
        "● Write Python code to create a histogram using Matplotlib for the survey data:\n",
        "\n",
        "To understand the distribution of your customer satisfaction survey data (rated 1-10), you should use the following summary statistics and visualizations:\n",
        "\n",
        "Summary statistics:\n",
        "\n",
        "Mean: To know the average satisfaction score.\n",
        "\n",
        "Median: To understand the middle point of your data, useful if the data is skewed.\n",
        "\n",
        "Mode: To identify the most frequent satisfaction rating.\n",
        "\n",
        "Standard deviation (SD): To measure the spread or variability of the satisfaction scores.\n",
        "\n",
        "Range: To see the gap between the lowest and highest scores.\n",
        "\n",
        "Quartiles and Interquartile Range (IQR): To get more detailed insights on the distribution spread.\n",
        "\n",
        "Visualizations:\n",
        "\n",
        "Histogram: To visualize the distribution shape of survey responses, showing frequency per score.\n",
        "\n",
        "Boxplot: To display the median, quartiles, spread, and potential outliers.\n",
        "\n",
        "Bar chart (optional): Useful if you want to highlight frequencies for each score category."
      ],
      "metadata": {
        "id": "OrkIu129W3WZ"
      }
    },
    {
      "cell_type": "code",
      "source": [
        "import matplotlib.pyplot as plt\n",
        "\n",
        "\n",
        "survey_data =  [7, 8, 5, 9, 6, 7, 8, 9, 10, 4, 7, 6, 9, 8, 7]\n",
        "\n",
        "plt.figure(figsize=(8, 6))\n",
        "plt.hist(survey_data, bins=range(1, 12), edgecolor='black', align='left')  # bins for scores 1 to 10\n",
        "plt.title(\"Histogram of Customer Satisfaction Survey Scores\")\n",
        "plt.xlabel(\"Satisfaction Score\")\n",
        "plt.ylabel(\"Number of Responses\")\n",
        "plt.xticks(range(1, 11))\n",
        "plt.grid(axis='y', alpha=0.75)\n",
        "plt.show()\n"
      ],
      "metadata": {
        "colab": {
          "base_uri": "https://localhost:8080/",
          "height": 564
        },
        "id": "JV7LQusxY_ME",
        "outputId": "b1c75eca-d4cf-48be-d89f-fffcaca92d30"
      },
      "execution_count": 6,
      "outputs": [
        {
          "output_type": "display_data",
          "data": {
            "text/plain": [
              "<Figure size 800x600 with 1 Axes>"
            ],
            "image/png": "[encoded data removed]"
          },
          "metadata": {}
        }
      ]
    }
  ]
}